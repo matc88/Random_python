{
 "cells": [
  {
   "cell_type": "code",
   "execution_count": 2,
   "id": "a4844962",
   "metadata": {},
   "outputs": [
    {
     "name": "stdout",
     "output_type": "stream",
     "text": [
      "shape: (4, 4)\n",
      "┌─────────┬──────────┬─────┬────────────┐\n",
      "│ Name    ┆ City     ┆ Age ┆ Changed    │\n",
      "│ ---     ┆ ---      ┆ --- ┆ ---        │\n",
      "│ str     ┆ str      ┆ i64 ┆ str        │\n",
      "╞═════════╪══════════╪═════╪════════════╡\n",
      "│ Alice   ┆ New York ┆ 25  ┆ N          │\n",
      "│ Robert  ┆ Lublin   ┆ 30  ┆ Name, City │\n",
      "│ Charlie ┆ Chicago  ┆ 35  ┆ N          │\n",
      "│ Bob     ┆ New York ┆ 40  ┆ N          │\n",
      "└─────────┴──────────┴─────┴────────────┘\n"
     ]
    }
   ],
   "source": [
    "import pandas as pd\n",
    "import polars as pl\n",
    "\n",
    "# Read the Excel file into a pandas DataFrame\n",
    "excel_path = r'C:\\Users\\Desktop\\Name_replacement.xlsx'\n",
    "df_mappings = pd.read_excel(excel_path, engine='openpyxl')\n",
    "\n",
    "# Your original Polars DataFrame\n",
    "df = pl.DataFrame({\n",
    "    \"Name\": [\"Alice\", \"Bob\", \"Charlie\", \"Bob\"],\n",
    "    \"City\": [\"New York\", \"Los Angeles\", \"Chicago\", \"New York\"],\n",
    "    \"Age\": [25, 30, 35, 40]\n",
    "})\n",
    "\n",
    "# Convert the original Polars DataFrame to pandas for easier row-wise operations\n",
    "df_pd = df.to_pandas()\n",
    "\n",
    "# Initialize the 'Changed' column to 'N' for all rows indicating no changes initially\n",
    "df_pd['Changed'] = 'N'\n",
    "\n",
    "# Iterate through the rows of the pandas DataFrame containing the mappings\n",
    "for _, row in df_mappings.iterrows():\n",
    "    original_name = row['Original_Name']\n",
    "    city = row['City']\n",
    "    new_name = row['New_Name']\n",
    "    new_city = row['New_City']\n",
    "\n",
    "    # Create a mask for rows where replacements should happen\n",
    "    mask = (df_pd[\"Name\"] == original_name) & (df_pd[\"City\"] == city)\n",
    "\n",
    "    # Initialize an empty string to store changes for each row\n",
    "    changes = []\n",
    "\n",
    "    # Check if any row actually needs a replacement for the 'Name'\n",
    "    if mask.any() and df_pd.loc[mask, \"Name\"].any():\n",
    "        df_pd.loc[mask, \"Name\"] = new_name\n",
    "        changes.append('Name')\n",
    "\n",
    "    # Check if any row actually needs a replacement for the 'City'\n",
    "    if mask.any() and df_pd.loc[mask, \"City\"].any():\n",
    "        df_pd.loc[mask, \"City\"] = new_city\n",
    "        changes.append('City')\n",
    "\n",
    "    # Update the 'Changed' column with the fields that were changed, join them with ', '\n",
    "    if changes:\n",
    "        df_pd.loc[mask, 'Changed'] = ', '.join(changes)\n",
    "    else:\n",
    "        df_pd.loc[mask, 'Changed'] = 'N'\n",
    "\n",
    "# Convert the updated pandas DataFrame back to a Polars DataFrame\n",
    "df_updated = pl.from_pandas(df_pd)\n",
    "\n",
    "print(df_updated)"
   ]
  },
  {
   "cell_type": "code",
   "execution_count": null,
   "id": "4cd14d66",
   "metadata": {},
   "outputs": [],
   "source": []
  }
 ],
 "metadata": {
  "kernelspec": {
   "display_name": "Python 3",
   "language": "python",
   "name": "python3"
  },
  "language_info": {
   "codemirror_mode": {
    "name": "ipython",
    "version": 3
   },
   "file_extension": ".py",
   "mimetype": "text/x-python",
   "name": "python",
   "nbconvert_exporter": "python",
   "pygments_lexer": "ipython3",
   "version": "3.8.8"
  }
 },
 "nbformat": 4,
 "nbformat_minor": 5
}
