{
 "cells": [
  {
   "cell_type": "code",
   "execution_count": 1,
   "id": "42c2b110",
   "metadata": {},
   "outputs": [
    {
     "name": "stdout",
     "output_type": "stream",
     "text": [
      "      A           B    C                   D     E   L   M   N   O   P   Q\n",
      "0  ref1  2023-01-01  100  Duplicate Domestic  ref2  10  11  12  13  14  15\n",
      "1  ref2  2023-01-02  200               Other  ref3  20  21  22  23  24  25\n",
      "2  ref3  2023-01-03  300             Another  ref1  30  31  32  33  34  35\n",
      "3  ref4  2023-01-02  200  Duplicate Domestic  ref3  40  41  42  43  44  45\n"
     ]
    }
   ],
   "source": [
    "import pandas as pd\n",
    "\n",
    "# Sample DataFrame creation with additional Columns L, M, N, O, P, Q\n",
    "data = {\n",
    "    'A': ['ref1', 'ref2', 'ref3', 'ref4'],  # Reference values\n",
    "    'B': ['2023-01-01', '2023-01-02', '2023-01-03', '2023-01-02'],  # Date\n",
    "    'C': [100, 200, 300, 200],  # Amount\n",
    "    'D': ['Duplicate Domestic', 'Other', 'Another', 'Duplicate Domestic'],\n",
    "    'E': ['ref2', 'ref3', 'ref1', 'ref3'],  # Reference column for lookup in Column A\n",
    "    # Sample values for Columns L, M, N, O, P, Q in both rows\n",
    "    'L': [10, 20, 30, 40],\n",
    "    'M': [11, 21, 31, 41],\n",
    "    'N': [12, 22, 32, 42],\n",
    "    'O': [13, 23, 33, 43],\n",
    "    'P': [14, 24, 34, 44],\n",
    "    'Q': [15, 25, 35, 45]\n",
    "}\n",
    "\n",
    "df = pd.DataFrame(data)\n",
    "\n",
    "# Loop through each row in the DataFrame\n",
    "for index, row in df.iterrows():\n",
    "    # Check if 'Duplicate Domestic' is found in Column D\n",
    "    if 'Duplicate Domestic' in row['D']:\n",
    "        # Get the reference value from Column E\n",
    "        reference_value = row['E']\n",
    "\n",
    "        # Use the reference value to look up a row in Column A\n",
    "        matching_rows = df.loc[df['A'] == reference_value]\n",
    "\n",
    "        # Loop through the matching rows to check for same values in Column B and C\n",
    "        for match_index, match_row in matching_rows.iterrows():\n",
    "            # Check if Column B (date) and Column C (amount) values match\n",
    "            if match_row['B'] == row['B'] and match_row['C'] == row['C']:\n",
    "                # Replace values in Columns L, M, N, O, P, Q of the original row\n",
    "                # with values from the matching row\n",
    "                df.loc[index, ['L', 'M', 'N', 'O', 'P', 'Q']] = match_row[['L', 'M', 'N', 'O', 'P', 'Q']].values\n",
    "\n",
    "                # Change the value in Column D from \"Duplicate Domestic\" to \"Duplicate Domestic - Delete\"\n",
    "                df.loc[index, 'D'] = \"Duplicate Domestic - Delete\"\n",
    "\n",
    "# Print or return the modified DataFrame\n",
    "print(df)"
   ]
  },
  {
   "cell_type": "code",
   "execution_count": null,
   "id": "ccdfafd2",
   "metadata": {},
   "outputs": [],
   "source": []
  }
 ],
 "metadata": {
  "kernelspec": {
   "display_name": "Python 3",
   "language": "python",
   "name": "python3"
  },
  "language_info": {
   "codemirror_mode": {
    "name": "ipython",
    "version": 3
   },
   "file_extension": ".py",
   "mimetype": "text/x-python",
   "name": "python",
   "nbconvert_exporter": "python",
   "pygments_lexer": "ipython3",
   "version": "3.8.8"
  }
 },
 "nbformat": 4,
 "nbformat_minor": 5
}
